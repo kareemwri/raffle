{
 "cells": [
  {
   "cell_type": "code",
   "execution_count": null,
   "metadata": {},
   "outputs": [],
   "source": [
    "def index0(x):\n",
    "    return ord(x[0])\n",
    "\n",
    "\n",
    "st='tower'\n",
    "\n",
    "print(index0(st))\n",
    "test=index0(st)"
   ]
  },
  {
   "cell_type": "code",
   "execution_count": null,
   "metadata": {},
   "outputs": [],
   "source": [
    "list=[]\n",
    "dict={}\n",
    "print(list)\n",
    "print(dict)\n",
    "def append(key,index):\n",
    "    list.append(key)\n",
    "    dict[key]=(index)\n",
    "append(test,st)\n",
    "print(list)\n",
    "print(dict)"
   ]
  },
  {
   "cell_type": "code",
   "execution_count": null,
   "metadata": {},
   "outputs": [],
   "source": [
    "import random\n",
    "def namecheck(name):\n",
    "    print(random.randrange(1,500))\n",
    "    while test in list:\n",
    "        x=random.randrange(1,10)\n",
    "        test+=x\n",
    "    return test\n",
    "append(test,st)\n",
    "print(list,dict)\n",
    "random.shuffle(list)\n",
    "print(list)"
   ]
  },
  {
   "cell_type": "code",
   "execution_count": null,
   "metadata": {},
   "outputs": [],
   "source": [
    "print(list)\n",
    "print(len(list))\n",
    "listlen=len(list)\n",
    "print(listlen)\n",
    "def winner(list):\n",
    "    list=random.shuffle(list)\n",
    "    return(random.randrange(0,listlen))\n",
    "#win=winner()\n",
    "#print(win)\n",
    "print(list[winner(list)])"
   ]
  },
  {
   "cell_type": "code",
   "execution_count": null,
   "metadata": {},
   "outputs": [],
   "source": [
    "names=input('enter names: ')\n",
    "namelist=names.split(',')\n",
    "print(names)\n",
    "print(namelist)"
   ]
  },
  {
   "cell_type": "code",
   "execution_count": null,
   "metadata": {},
   "outputs": [],
   "source": [
    "from collections import Counter\n",
    "data = Counter(wlst)\n",
    "data.most_common()   # Returns all unique items and their counts\n",
    "data.most_common(1)  # Returns the highest occurring item"
   ]
  },
  {
   "cell_type": "code",
   "execution_count": null,
   "metadata": {},
   "outputs": [],
   "source": [
    "type(wname)\n",
    "print(wname)\n",
    "print(wname[2])\n",
    "wname=str(win(10))\n",
    "print(type(wname))\n",
    "print(wname[2])"
   ]
  },
  {
   "cell_type": "code",
   "execution_count": null,
   "metadata": {},
   "outputs": [],
   "source": [
    "#import relevant modules\n",
    "import random\n",
    "from collections import Counter\n",
    "\n",
    "#returns unicode number for first character in name  \n",
    "def index0(x):\n",
    "    return ord(x[0])\n",
    "\n",
    "#defines key and pair values for names and unicode value to track entrants\n",
    "def append(key,index):\n",
    "    lst.append(key)\n",
    "    dct[key]=(index)\n",
    "    \n",
    "#this function creates a numeric value to represent each name\n",
    "def namecheck(name,lists):\n",
    "    name=index0(name)\n",
    "    while name in lists:\n",
    "        x=random.randrange(1,10)\n",
    "        name+=x\n",
    "    return name\n",
    "\n",
    "#shuffles both the list and the number chosen for the winner\n",
    "def winner(l,ll):\n",
    "    lists=random.shuffle(l)\n",
    "    #llen=len(lst)\n",
    "    num=(random.randrange(0,ll))\n",
    "    return l[num]\n",
    "\n",
    "#returns name with most wins\n",
    "def win(trials,lst):\n",
    "    k=0\n",
    "    winningNum=0\n",
    "    while k<trials:\n",
    "        wlst.append(winner(lst,len(lst)))\n",
    "        k+=1\n",
    "    data = Counter(wlst)\n",
    "    w=data.most_common(1)\n",
    "    for code, iteration in w:\n",
    "        winningNum=code\n",
    "    print(dct.get(winningNum))\n",
    "    \n",
    "#intialize blank list & dictionary\n",
    "lst=[]\n",
    "dct={}\n",
    "wlst=[]\n",
    "contestants=[]\n",
    "\n",
    "#input the number of trail runs you want to run\n",
    "trials=int(input('enter number of trials: \\n'))\n",
    "\n",
    "#allows you to enter usernames or actual names using commas to seperate\n",
    "#saves it as a list\n",
    "names=input('enter names: \\n')\n",
    "namelist=names.split(',')\n",
    "\n",
    "#initialize a counter\n",
    "i=0\n",
    "\n",
    "#runs the name keys through the randomization and selects a winner\n",
    "#each itteraion is saves the winner\n",
    "for n in namelist:\n",
    "    contest=namecheck(n,lst)\n",
    "    contestants.append(contest)\n",
    "    append(contest,namelist[i])\n",
    "    i+=1\n",
    "lstlen=len(lst)\n",
    "print(lst)\n",
    "print(dct)\n",
    "win(trials,contestants)\n",
    "print(win)"
   ]
  }
 ],
 "metadata": {
  "kernelspec": {
   "display_name": "Python 3",
   "language": "python",
   "name": "python3"
  },
  "language_info": {
   "codemirror_mode": {
    "name": "ipython",
    "version": 3
   },
   "file_extension": ".py",
   "mimetype": "text/x-python",
   "name": "python",
   "nbconvert_exporter": "python",
   "pygments_lexer": "ipython3",
   "version": "3.7.3"
  }
 },
 "nbformat": 4,
 "nbformat_minor": 2
}
