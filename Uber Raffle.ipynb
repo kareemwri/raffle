{
 "cells": [
  {
   "cell_type": "code",
   "execution_count": null,
   "metadata": {},
   "outputs": [],
   "source": [
    "def index0(x):\n",
    "    return ord(x[0])\n",
    "\n",
    "\n",
    "st='tower'\n",
    "\n",
    "print(index0(st))\n",
    "test=index0(st)"
   ]
  },
  {
   "cell_type": "code",
   "execution_count": null,
   "metadata": {},
   "outputs": [],
   "source": [
    "list=[]\n",
    "dict={}\n",
    "print(list)\n",
    "print(dict)\n",
    "def append(key,index):\n",
    "    list.append(key)\n",
    "    dict[key]=(index)\n",
    "append(test,st)\n",
    "print(list)\n",
    "print(dict)"
   ]
  },
  {
   "cell_type": "code",
   "execution_count": null,
   "metadata": {},
   "outputs": [],
   "source": [
    "def namecheck(name)\n",
    "    import random\n",
    "    print(random.randrange(1,500))\n",
    "    while test in list:\n",
    "        x=random.randrange(1,10)\n",
    "        test+=x\n",
    "    return test\n",
    "append(test,st)\n",
    "print(list,dict)\n",
    "random.shuffle(list)\n",
    "print(list)"
   ]
  },
  {
   "cell_type": "code",
   "execution_count": null,
   "metadata": {},
   "outputs": [],
   "source": [
    "print(list)\n",
    "print(len(list))\n",
    "listlen=len(list)\n",
    "print(listlen)\n",
    "def winner(lst):\n",
    "    list=random.shuffle(list)\n",
    "    return(random.randrange(0,listlen))\n",
    "#win=winner()\n",
    "#print(win)\n",
    "print(list[winner()])"
   ]
  },
  {
   "cell_type": "code",
   "execution_count": null,
   "metadata": {},
   "outputs": [],
   "source": [
    "names=input('enter names: ')\n",
    "namelist=names.split(',')\n",
    "print(names)\n",
    "print(namelist)"
   ]
  },
  {
   "cell_type": "code",
   "execution_count": 12,
   "metadata": {},
   "outputs": [
    {
     "data": {
      "text/plain": [
       "[(7, 2)]"
      ]
     },
     "execution_count": 12,
     "metadata": {},
     "output_type": "execute_result"
    }
   ],
   "source": [
    "from collections import Counter\n",
    "data = Counter(wlst)\n",
    "data.most_common()   # Returns all unique items and their counts\n",
    "data.most_common(1)  # Returns the highest occurring item"
   ]
  },
  {
   "cell_type": "code",
   "execution_count": 37,
   "metadata": {},
   "outputs": [
    {
     "name": "stdout",
     "output_type": "stream",
     "text": [
      "None\n",
      "n\n",
      "[(8, 23)]\n",
      "<class 'str'>\n",
      "n\n"
     ]
    }
   ],
   "source": [
    "type(wname)\n",
    "print(wname)\n",
    "print(wname[2])\n",
    "wname=str(win(10))\n",
    "print(type(wname))\n",
    "print(wname[2])"
   ]
  },
  {
   "cell_type": "code",
   "execution_count": 48,
   "metadata": {},
   "outputs": [
    {
     "name": "stdout",
     "output_type": "stream",
     "text": [
      "enter number of trials: \n",
      "10000000\n",
      "enter names: \n",
      "elbello86,cs_rosa,recognizeher,carlosdhenry,cal_100,danny.azon,elli0t.ness,ade.alvz,kalifore\n",
      "[(107, 1112423)]\n",
      "enter winning number: n'107\n",
      "elli0t.ness\n"
     ]
    }
   ],
   "source": [
    "import random\n",
    "from collections import Counter\n",
    "\n",
    "def namecheck(name,lists):\n",
    "    name=index0(name)\n",
    "    while name in lists:\n",
    "        x=random.randrange(1,10)\n",
    "        name+=x\n",
    "    return name\n",
    "def index0(x):\n",
    "    return ord(x[0])\n",
    "def append(key,index):\n",
    "    lst.append(key)\n",
    "    dct[key]=(index)\n",
    "def winner(l,ll):\n",
    "    lists=random.shuffle(l)\n",
    "    #llen=len(lst)\n",
    "    num=(random.randrange(0,ll))\n",
    "    return l[num]\n",
    "def win(t):\n",
    "    k=0\n",
    "    while k<t:\n",
    "        wlst.append(winner(lst,lstlen))\n",
    "        k+=1\n",
    "    data = Counter(wlst)\n",
    "    w=data.most_common(1)\n",
    "    print(w)\n",
    "lst=[]\n",
    "dct={}\n",
    "wlst=[]\n",
    "trials=int(input('enter number of trials: \\n'))\n",
    "names=input('enter names: \\n')\n",
    "namelist=names.split(',')\n",
    "i=0\n",
    "for n in namelist:\n",
    "    contest=namecheck(n,lst)\n",
    "    append(contest,namelist[i])\n",
    "    i+=1\n",
    "lstlen=len(lst)\n",
    "win(trials)\n",
    "winnum=int(input('enter winning number: n\\''))\n",
    "print(dct[winnum])"
   ]
  }
 ],
 "metadata": {
  "kernelspec": {
   "display_name": "Python 3",
   "language": "python",
   "name": "python3"
  },
  "language_info": {
   "codemirror_mode": {
    "name": "ipython",
    "version": 3
   },
   "file_extension": ".py",
   "mimetype": "text/x-python",
   "name": "python",
   "nbconvert_exporter": "python",
   "pygments_lexer": "ipython3",
   "version": "3.7.3"
  }
 },
 "nbformat": 4,
 "nbformat_minor": 2
}
